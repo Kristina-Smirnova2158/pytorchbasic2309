{
  "nbformat": 4,
  "nbformat_minor": 0,
  "metadata": {
    "colab": {
      "provenance": [],
      "authorship_tag": "ABX9TyOUYotyw1Vkemw0x8zGsoRC",
      "include_colab_link": true
    },
    "kernelspec": {
      "name": "python3",
      "display_name": "Python 3"
    },
    "language_info": {
      "name": "python"
    }
  },
  "cells": [
    {
      "cell_type": "markdown",
      "metadata": {
        "id": "view-in-github",
        "colab_type": "text"
      },
      "source": [
        "<a href=\"https://colab.research.google.com/github/Kristina-Smirnova2158/pytorchbasic2309/blob/main/05_gradientDescentTorch.ipynb\" target=\"_parent\"><img src=\"https://colab.research.google.com/assets/colab-badge.svg\" alt=\"Open In Colab\"/></a>"
      ]
    },
    {
      "cell_type": "markdown",
      "source": [
        "#Import libraries"
      ],
      "metadata": {
        "id": "0src3mqXId5t"
      }
    },
    {
      "cell_type": "code",
      "execution_count": 48,
      "metadata": {
        "id": "evt_5XfoDUJi"
      },
      "outputs": [],
      "source": [
        "import torch\n",
        "import torch.nn as nn"
      ]
    },
    {
      "cell_type": "markdown",
      "source": [
        "# Initialization"
      ],
      "metadata": {
        "id": "1FCtZ5M9JaT-"
      }
    },
    {
      "cell_type": "code",
      "source": [
        "# y = 2*x\n",
        "x = torch.tensor([[1], [2], [3], [4]], dtype=torch.float32)\n",
        "y = torch.tensor([[2], [4], [6], [8]], dtype=torch.float32)\n",
        "n_samples, n_features = x.shape\n",
        "print(n_samples, n_features)\n",
        "\n",
        "x_test = torch.tensor([5], dtype=torch.float32)\n",
        "\n",
        "lr = 0.01 #learning rate\n",
        "n = 1000 #number of iteration\n"
      ],
      "metadata": {
        "id": "-g2uAuuIJP33",
        "colab": {
          "base_uri": "https://localhost:8080/"
        },
        "outputId": "924754a9-02a8-4033-b50e-0af9b9ad5e0b"
      },
      "execution_count": 49,
      "outputs": [
        {
          "output_type": "stream",
          "name": "stdout",
          "text": [
            "4 1\n"
          ]
        }
      ]
    },
    {
      "cell_type": "markdown",
      "source": [
        "#Model prediction\n"
      ],
      "metadata": {
        "id": "sczx2-sELBq3"
      }
    },
    {
      "cell_type": "code",
      "source": [
        "input_size = n_features\n",
        "output_size = 1\n",
        "\n",
        "#model = nn.Linear(input_size,output_size)\n",
        "\n",
        "class LinearRegression(nn.Module):\n",
        "\n",
        "  def __init__(self, input_dim, output_dim):\n",
        "     super(LinearRegression, self).__init__()\n",
        "     #define Layers\n",
        "     self.lin = nn.Linear(input_dim, output_dim)\n",
        "\n",
        "  def forward(self, x):\n",
        "    return self.lin(x)\n",
        "\n",
        "model = LinearRegression(input_size,output_size)"
      ],
      "metadata": {
        "id": "c8oN9FTOLGLD"
      },
      "execution_count": 50,
      "outputs": []
    },
    {
      "cell_type": "markdown",
      "source": [
        "#**Loss**\n",
        "The Loss is mean square error(MSE)"
      ],
      "metadata": {
        "id": "hmMpWjE0LlGF"
      }
    },
    {
      "cell_type": "code",
      "source": [
        "loss = nn.MSELoss()"
      ],
      "metadata": {
        "id": "mnWouwaOLn_j"
      },
      "execution_count": 51,
      "outputs": []
    },
    {
      "cell_type": "markdown",
      "source": [
        "#Training"
      ],
      "metadata": {
        "id": "usbqY6CAOVlF"
      }
    },
    {
      "cell_type": "code",
      "source": [
        "optimizer = torch.optim.SGD(model.parameters(), lr=lr)\n",
        "\n",
        "for epoch in range(n):\n",
        "    #prediction\n",
        "    h = model(x)\n",
        "    #loss\n",
        "    L = loss(y, h)\n",
        "    #gradient\n",
        "    L.backward()\n",
        "    #update\n",
        "    optimizer.step()\n",
        "    #zero_gradients\n",
        "    optimizer.zero_grad()\n",
        "\n",
        "    if epoch % 100 == 0:\n",
        "      [w,b] = model.parameters()\n",
        "      print(f'epoch{epoch + 1}: W = {w[0][0]:3f}, loss={L:5f}')\n",
        "\n",
        "print(f'prediction after training: h(5) = {model(x_test).item():.3f}')"
      ],
      "metadata": {
        "colab": {
          "base_uri": "https://localhost:8080/"
        },
        "id": "o6lL6niQOq2G",
        "outputId": "a5546204-8398-44ad-c126-7e285aa1b0ad"
      },
      "execution_count": 52,
      "outputs": [
        {
          "output_type": "stream",
          "name": "stdout",
          "text": [
            "epoch1: W = 1.011086, loss=4.828803\n",
            "epoch101: W = 1.700572, loss=0.130217\n",
            "epoch201: W = 1.778143, loss=0.071488\n",
            "epoch301: W = 1.835618, loss=0.039246\n",
            "epoch401: W = 1.878203, loss=0.021546\n",
            "epoch501: W = 1.909756, loss=0.011828\n",
            "epoch601: W = 1.933135, loss=0.006494\n",
            "epoch701: W = 1.950457, loss=0.003565\n",
            "epoch801: W = 1.963292, loss=0.001957\n",
            "epoch901: W = 1.972801, loss=0.001074\n",
            "prediction after training: h(5) = 9.958\n"
          ]
        }
      ]
    }
  ]
}