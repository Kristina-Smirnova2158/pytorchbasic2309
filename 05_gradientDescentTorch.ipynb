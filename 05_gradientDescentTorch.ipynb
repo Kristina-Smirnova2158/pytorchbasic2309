{
  "nbformat": 4,
  "nbformat_minor": 0,
  "metadata": {
    "colab": {
      "provenance": [],
      "authorship_tag": "ABX9TyPTahJbsaf76inObK261iXh",
      "include_colab_link": true
    },
    "kernelspec": {
      "name": "python3",
      "display_name": "Python 3"
    },
    "language_info": {
      "name": "python"
    }
  },
  "cells": [
    {
      "cell_type": "markdown",
      "metadata": {
        "id": "view-in-github",
        "colab_type": "text"
      },
      "source": [
        "<a href=\"https://colab.research.google.com/github/Kristina-Smirnova2158/pytorchbasic2309/blob/main/05_gradientDescentTorch.ipynb\" target=\"_parent\"><img src=\"https://colab.research.google.com/assets/colab-badge.svg\" alt=\"Open In Colab\"/></a>"
      ]
    },
    {
      "cell_type": "markdown",
      "source": [
        "#Import libraries"
      ],
      "metadata": {
        "id": "0src3mqXId5t"
      }
    },
    {
      "cell_type": "code",
      "execution_count": 45,
      "metadata": {
        "id": "evt_5XfoDUJi"
      },
      "outputs": [],
      "source": [
        "import torch"
      ]
    },
    {
      "cell_type": "markdown",
      "source": [
        "# Initialization"
      ],
      "metadata": {
        "id": "1FCtZ5M9JaT-"
      }
    },
    {
      "cell_type": "code",
      "source": [
        "# y = 2*x\n",
        "x = torch.tensor([1, 2, 3, 4], dtype=torch.float32)\n",
        "y = torch.tensor([2, 4, 6, 8], dtype=torch.float32)\n",
        "\n",
        "w = torch.tensor (0.0, dtype=torch.float32, requires_grad=True)\n",
        "\n",
        "lr = 0.01 #learning rate\n",
        "n = 1000 #number of iteration\n"
      ],
      "metadata": {
        "id": "-g2uAuuIJP33"
      },
      "execution_count": 46,
      "outputs": []
    },
    {
      "cell_type": "markdown",
      "source": [
        "#Model prediction\n"
      ],
      "metadata": {
        "id": "sczx2-sELBq3"
      }
    },
    {
      "cell_type": "code",
      "source": [
        "def forward(w,x):\n",
        " return w*x"
      ],
      "metadata": {
        "id": "c8oN9FTOLGLD"
      },
      "execution_count": 47,
      "outputs": []
    },
    {
      "cell_type": "markdown",
      "source": [
        "#**Loss**\n",
        "The Loss is mean square error(MSE)"
      ],
      "metadata": {
        "id": "hmMpWjE0LlGF"
      }
    },
    {
      "cell_type": "code",
      "source": [
        "def loss(y,h):\n",
        "  return((y-h)**2).mean()"
      ],
      "metadata": {
        "id": "mnWouwaOLn_j"
      },
      "execution_count": 48,
      "outputs": []
    },
    {
      "cell_type": "markdown",
      "source": [
        "#Training"
      ],
      "metadata": {
        "id": "usbqY6CAOVlF"
      }
    },
    {
      "cell_type": "code",
      "source": [
        "for epoch in range(n):\n",
        "    #prediction\n",
        "    h = forward(w, x)\n",
        "    #loss\n",
        "    L = loss(y, h)\n",
        "    #gradient\n",
        "    L.backward()\n",
        "    #update\n",
        "    with torch.no_grad():\n",
        "      w -= lr*w.grad\n",
        "    w.grad.zero_()\n",
        "\n",
        "    if epoch % 100 == 0:\n",
        "      print(f'epoch{epoch + 1}: W = {w:3f}, loss={L:5f}')\n",
        "\n",
        "print(f'prediction after training: h(5) = {forward(w,5):.3f}')"
      ],
      "metadata": {
        "colab": {
          "base_uri": "https://localhost:8080/"
        },
        "id": "o6lL6niQOq2G",
        "outputId": "9fbc0dbf-459b-43ac-956f-d46f838403b7"
      },
      "execution_count": 49,
      "outputs": [
        {
          "output_type": "stream",
          "name": "stdout",
          "text": [
            "epoch1: W = 0.300000, loss=30.000000\n",
            "epoch101: W = 2.000000, loss=0.000000\n",
            "epoch201: W = 2.000000, loss=0.000000\n",
            "epoch301: W = 2.000000, loss=0.000000\n",
            "epoch401: W = 2.000000, loss=0.000000\n",
            "epoch501: W = 2.000000, loss=0.000000\n",
            "epoch601: W = 2.000000, loss=0.000000\n",
            "epoch701: W = 2.000000, loss=0.000000\n",
            "epoch801: W = 2.000000, loss=0.000000\n",
            "epoch901: W = 2.000000, loss=0.000000\n",
            "prediction after training: h(5) = 10.000\n"
          ]
        }
      ]
    }
  ]
}