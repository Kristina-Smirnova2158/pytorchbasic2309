{
  "nbformat": 4,
  "nbformat_minor": 0,
  "metadata": {
    "colab": {
      "provenance": [],
      "authorship_tag": "ABX9TyOnDtQFScvSOGGV7VTNlMUf",
      "include_colab_link": true
    },
    "kernelspec": {
      "name": "python3",
      "display_name": "Python 3"
    },
    "language_info": {
      "name": "python"
    }
  },
  "cells": [
    {
      "cell_type": "markdown",
      "metadata": {
        "id": "view-in-github",
        "colab_type": "text"
      },
      "source": [
        "<a href=\"https://colab.research.google.com/github/Kristina-Smirnova2158/pytorchbasic2309/blob/main/05gradientDescentManual.ipynb\" target=\"_parent\"><img src=\"https://colab.research.google.com/assets/colab-badge.svg\" alt=\"Open In Colab\"/></a>"
      ]
    },
    {
      "cell_type": "markdown",
      "source": [
        "#Import libraries"
      ],
      "metadata": {
        "id": "0src3mqXId5t"
      }
    },
    {
      "cell_type": "code",
      "execution_count": 29,
      "metadata": {
        "id": "evt_5XfoDUJi"
      },
      "outputs": [],
      "source": [
        "import numpy as np"
      ]
    },
    {
      "cell_type": "markdown",
      "source": [
        "# Initialization"
      ],
      "metadata": {
        "id": "1FCtZ5M9JaT-"
      }
    },
    {
      "cell_type": "code",
      "source": [
        "x = np.array([1, 2, 3, 4], dtype=np.float32)\n",
        "y = np.array([2, 4, 6, 8], dtype=np.float32)\n",
        "\n",
        "w = 0.0\n",
        "\n",
        "lr = 0.01 #learning rate\n",
        "n = 10 #number of iteration\n"
      ],
      "metadata": {
        "id": "-g2uAuuIJP33"
      },
      "execution_count": 30,
      "outputs": []
    },
    {
      "cell_type": "markdown",
      "source": [
        "#Model prediction\n"
      ],
      "metadata": {
        "id": "sczx2-sELBq3"
      }
    },
    {
      "cell_type": "code",
      "source": [
        "def forward(w,x):\n",
        " return w*x"
      ],
      "metadata": {
        "id": "c8oN9FTOLGLD"
      },
      "execution_count": 31,
      "outputs": []
    },
    {
      "cell_type": "markdown",
      "source": [
        "#**Loss**\n",
        "The Loss is mean square error(MSE)"
      ],
      "metadata": {
        "id": "hmMpWjE0LlGF"
      }
    },
    {
      "cell_type": "code",
      "source": [
        "def loss(y,h):\n",
        "  return((y-h)**2).mean()"
      ],
      "metadata": {
        "id": "mnWouwaOLn_j"
      },
      "execution_count": 32,
      "outputs": []
    },
    {
      "cell_type": "markdown",
      "source": [
        "#Gradient of the loss"
      ],
      "metadata": {
        "id": "4ILkLJSXMHj3"
      }
    },
    {
      "cell_type": "code",
      "source": [
        "def gradient(x, h, y):\n",
        "  return np.dot(-2*x, (y - h)).mean()"
      ],
      "metadata": {
        "id": "MvV2aQ6YMF7z"
      },
      "execution_count": 33,
      "outputs": []
    },
    {
      "cell_type": "markdown",
      "source": [
        "#Training"
      ],
      "metadata": {
        "id": "usbqY6CAOVlF"
      }
    },
    {
      "cell_type": "code",
      "source": [
        "for epoch in range(n):\n",
        "    #prediction\n",
        "    h = forward(w, x)\n",
        "    #loss\n",
        "    L = loss(y, h)\n",
        "    #gradient\n",
        "    dLdw = gradient(x, h, y)\n",
        "    #update\n",
        "    w -=lr*dLdw\n",
        "\n",
        "    if epoch % 1 == 0:\n",
        "      print(f'epoch{epoch + 1}: W = {w:3f}, loss={L:5f}')\n",
        "\n",
        "print(f'prediction after training: h(5) = {forward(w,5):.3f}')"
      ],
      "metadata": {
        "colab": {
          "base_uri": "https://localhost:8080/"
        },
        "id": "o6lL6niQOq2G",
        "outputId": "69cdfa22-98c4-42ab-dcd2-02ec9f7afcc6"
      },
      "execution_count": 34,
      "outputs": [
        {
          "output_type": "stream",
          "name": "stdout",
          "text": [
            "epoch1: W = 1.200000, loss=30.000000\n",
            "epoch2: W = 1.680000, loss=4.799999\n",
            "epoch3: W = 1.872000, loss=0.768000\n",
            "epoch4: W = 1.948800, loss=0.122880\n",
            "epoch5: W = 1.979520, loss=0.019661\n",
            "epoch6: W = 1.991808, loss=0.003146\n",
            "epoch7: W = 1.996723, loss=0.000503\n",
            "epoch8: W = 1.998689, loss=0.000081\n",
            "epoch9: W = 1.999476, loss=0.000013\n",
            "epoch10: W = 1.999790, loss=0.000002\n",
            "prediction after training: h(5) = 9.999\n"
          ]
        }
      ]
    }
  ]
}