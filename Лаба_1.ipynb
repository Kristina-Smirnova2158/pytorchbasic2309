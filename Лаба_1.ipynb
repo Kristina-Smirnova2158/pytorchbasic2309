{
  "nbformat": 4,
  "nbformat_minor": 0,
  "metadata": {
    "colab": {
      "provenance": [],
      "authorship_tag": "ABX9TyPy+C8KivW7nCgVlroSTCZc",
      "include_colab_link": true
    },
    "kernelspec": {
      "name": "python3",
      "display_name": "Python 3"
    },
    "language_info": {
      "name": "python"
    }
  },
  "cells": [
    {
      "cell_type": "markdown",
      "metadata": {
        "id": "view-in-github",
        "colab_type": "text"
      },
      "source": [
        "<a href=\"https://colab.research.google.com/github/Kristina-Smirnova2158/pytorchbasic2309/blob/main/%D0%9B%D0%B0%D0%B1%D0%B0_1.ipynb\" target=\"_parent\"><img src=\"https://colab.research.google.com/assets/colab-badge.svg\" alt=\"Open In Colab\"/></a>"
      ]
    },
    {
      "cell_type": "code",
      "execution_count": null,
      "metadata": {
        "id": "jhXumkee9EWK"
      },
      "outputs": [],
      "source": [
        "import numpy as np\n",
        "import matplotlib.pyplot as plt"
      ]
    },
    {
      "cell_type": "code",
      "source": [
        "m, g = 6, 9.8\n",
        "k, b = 5e+3, 8\n",
        "alpha, omega, fi = 2.5, (k/m)**0.5, np.pi\n"
      ],
      "metadata": {
        "id": "MwZGM1l4CTd_"
      },
      "execution_count": null,
      "outputs": []
    },
    {
      "cell_type": "code",
      "source": [
        "x0, v0 = 0.2, 0.3\n",
        "tn = 5\n",
        "n = int(1e+4)"
      ],
      "metadata": {
        "id": "wHIHlDrvCsFh"
      },
      "execution_count": null,
      "outputs": []
    },
    {
      "cell_type": "code",
      "source": [
        "def right_side_odu(xi,vi):\n",
        "f1 = v1\n",
        "f2 = -g - k/m *xi - b/m = vi\n",
        "  return f1, f2"
      ],
      "metadata": {
        "id": "Bp4pD3ZuC7zM"
      },
      "execution_count": null,
      "outputs": []
    },
    {
      "cell_type": "code",
      "source": [
        "def solver_odu-rk(x0, v0, tn, n):\n",
        "'''Расчет значений перемещения и скорости методом Рунге-Кутта 4го порядка точности\n",
        "   где M[i,0] = m1, '''\n",
        "\n",
        "T= np.linspace(0, tn, n, retstep=True)\n",
        "M = np.zeros((4,2))\n",
        "X = np.zeros (n)\n",
        "V = np.zeros (n)\n",
        "#начальные условия:\n",
        "X[0] = x0\n",
        "V[0] = v0\n",
        "  for i in range(n-1):\n",
        "    M[0, 0], M[0, 1] = right_side_odu(X[i], V[i])\n",
        "    M[1, 0], M[1, 1] = right_side_odu(X[i]+dt/2*M[0,0], V[i] + dt / 2 * M[0,1])\n",
        "    M[], M[] =\n",
        "    M[], M[] =\n",
        "\n",
        "    X[i+1] = X[1] + dt * (M[0,0] + 2*M[1,0] + 2*M[2,0] +M[3,0])/6\n",
        "    V[i+1] = V[i] + dt * ()/6\n",
        "\n",
        "    return T, X, V"
      ],
      "metadata": {
        "id": "EvPlqM6ODwXi"
      },
      "execution_count": null,
      "outputs": []
    }
  ]
}